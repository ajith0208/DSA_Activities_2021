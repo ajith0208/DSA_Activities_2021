{
  "nbformat": 4,
  "nbformat_minor": 0,
  "metadata": {
    "colab": {
      "name": "DSA program.ipynb",
      "provenance": [],
      "collapsed_sections": [],
      "authorship_tag": "ABX9TyPfFojuJV2941pJLdy2guQb",
      "include_colab_link": true
    },
    "kernelspec": {
      "name": "python3",
      "display_name": "Python 3"
    },
    "language_info": {
      "name": "python"
    }
  },
  "cells": [
    {
      "cell_type": "markdown",
      "metadata": {
        "id": "view-in-github",
        "colab_type": "text"
      },
      "source": [
        "<a href=\"https://colab.research.google.com/github/ajith0208/DSA_Activities_2021/blob/main/DSA_program.ipynb\" target=\"_parent\"><img src=\"https://colab.research.google.com/assets/colab-badge.svg\" alt=\"Open In Colab\"/></a>"
      ]
    },
    {
      "cell_type": "markdown",
      "metadata": {
        "id": "yQ4pPp8bhujy"
      },
      "source": [
        "# **1. Complete the following code to find the area of an equilateral triangle. Output should be as displayed**"
      ]
    },
    {
      "cell_type": "code",
      "metadata": {
        "colab": {
          "base_uri": "https://localhost:8080/"
        },
        "id": "Qaa2e3tMcydi",
        "outputId": "3fc66014-d70f-4a76-b898-560ab3041195"
      },
      "source": [
        "import math\n",
        "side = float(input(\"Enter the side of the equilateral triangle: \"))\n",
        "area = ((math.sqrt(3))/4)*pow(side,2)\n",
        "print('Area of the Equilateral Triangle is : ',area)"
      ],
      "execution_count": null,
      "outputs": [
        {
          "output_type": "stream",
          "name": "stdout",
          "text": [
            "Enter the side of the equilateral triangle: 4\n",
            "Area of the Equilateral Triangle is :  6.928203230275509\n"
          ]
        }
      ]
    },
    {
      "cell_type": "markdown",
      "metadata": {
        "id": "XR5XxuibiMpT"
      },
      "source": [
        "# **2.Write a program to count the number of each characters in a string\"\"\"**"
      ]
    },
    {
      "cell_type": "code",
      "metadata": {
        "colab": {
          "base_uri": "https://localhost:8080/"
        },
        "id": "yv4ftCKUlUTL",
        "outputId": "bdb7b055-95f9-4ee2-e653-5412f5049c51"
      },
      "source": [
        "a = []\n",
        "string = input('Enter the word\\n')\n",
        "for i in string:\n",
        "    if i in a:\n",
        "        continue\n",
        "    else:\n",
        "        a.append(i)\n",
        "        print(i,'=',string.count(i))"
      ],
      "execution_count": 4,
      "outputs": [
        {
          "output_type": "stream",
          "name": "stdout",
          "text": [
            "Enter the word\n",
            "Ajith\n",
            "A = 1\n",
            "j = 1\n",
            "i = 1\n",
            "t = 1\n",
            "h = 1\n"
          ]
        }
      ]
    },
    {
      "cell_type": "markdown",
      "metadata": {
        "id": "x4uFcyjBldMC"
      },
      "source": [
        "## **3.Write a program to find the area and perimeter of a rectangle using functions**"
      ]
    },
    {
      "cell_type": "code",
      "metadata": {
        "colab": {
          "base_uri": "https://localhost:8080/"
        },
        "id": "ev39zA7fg5o2",
        "outputId": "129c4455-5eb1-468e-a4f1-9749f8a3591a"
      },
      "source": [
        "def area(l,b):\n",
        "    return(l*b)\n",
        "def perimeter(l,b):\n",
        "    return(2*(l+b))\n",
        "\n",
        "l=int(input('Enter the length of rectangle : '))\n",
        "b=int(input('Enter the breadth of rectangle : '))\n",
        "\n",
        "print('Area of rrectangle = ',area(l,b))\n",
        "print('Perimeter of rrectangle = ',perimeter(l,b))"
      ],
      "execution_count": null,
      "outputs": [
        {
          "output_type": "stream",
          "name": "stdout",
          "text": [
            "Enter the length of rectangle : 5\n",
            "Enter the breadth of rectangle : 4\n",
            "Area of rrectangle =  20\n",
            "Perimeter of rrectangle =  18\n"
          ]
        }
      ]
    },
    {
      "cell_type": "markdown",
      "metadata": {
        "id": "tPbT3qbeifMz"
      },
      "source": [
        "# **4. Write a program to print the fibonacci series till a specified number**"
      ]
    },
    {
      "cell_type": "code",
      "metadata": {
        "colab": {
          "base_uri": "https://localhost:8080/"
        },
        "id": "002F8V0hlT-R",
        "outputId": "31c6bed6-d99d-48b3-8361-f0ec39c5d0ac"
      },
      "source": [
        "n=int(input('Enter number of terms : '))\n",
        "count=0\n",
        "n1=0\n",
        "n2=1\n",
        "print('The Fibonachi Series is : ',n1)\n",
        "print(n2)\n",
        "if [count<n]:\n",
        "  for i in range(2,n):\n",
        "    n3=n1+n2\n",
        "    n1=n2\n",
        "    n2=n3\n",
        "    print(n3)\n",
        "    count=count+1"
      ],
      "execution_count": null,
      "outputs": [
        {
          "output_type": "stream",
          "name": "stdout",
          "text": [
            "Enter number of terms : 5\n",
            "The Fibonachi Series is :  0\n",
            "1\n",
            "1\n",
            "2\n",
            "3\n"
          ]
        }
      ]
    },
    {
      "cell_type": "markdown",
      "metadata": {
        "id": "xfVchPV8ioTI"
      },
      "source": [
        "# **5. Complete the following code to find the minimum of 3 number using cinditional statements. Output should be as displayed**"
      ]
    },
    {
      "cell_type": "code",
      "metadata": {
        "colab": {
          "base_uri": "https://localhost:8080/"
        },
        "id": "bnoIkgAFoXrf",
        "outputId": "743e40ce-5de7-42ed-8ca4-24359b2c9a0b"
      },
      "source": [
        "a,b,c = input(\"Enter three numbers followed by  : \").split()\n",
        "\n",
        "print(\"First number :\",a)\n",
        "print(\"Second number :\",b)\n",
        "print(\"Third number :\",c)\n",
        "if(a==b==c):\n",
        "    print(\"Entered numbers are equal!!!\")\n",
        "elif(a<b and a<c):\n",
        "    print(a,\" is smallest\")\n",
        "elif(b<a and b<c):\n",
        "    print(b,\" is smallest\")\n",
        "else:\n",
        "    print(c,\" is smallest\")\n",
        "\n"
      ],
      "execution_count": null,
      "outputs": [
        {
          "output_type": "stream",
          "name": "stdout",
          "text": [
            "Enter three numbers followed by  : 1 2 3\n",
            "First number : 1\n",
            "Second number : 2\n",
            "Third number : 3\n",
            "1  is smallest\n"
          ]
        }
      ]
    },
    {
      "cell_type": "markdown",
      "metadata": {
        "id": "uxS6qq9DiuSv"
      },
      "source": [
        "# **6. Write a program to print star pyramind. The number of rows should be taken as input from the user**"
      ]
    },
    {
      "cell_type": "code",
      "metadata": {
        "colab": {
          "base_uri": "https://localhost:8080/"
        },
        "id": "C8NaGhwDi1kj",
        "outputId": "f02d9428-6acb-4fb8-b36b-46f7fbf165d7"
      },
      "source": [
        "n = int(input('Enter number of rows'))\n",
        "for i in range(0,n):\n",
        "  for j in range(0,i+1):\n",
        "    print('*',end='')\n",
        "  print('\\r')"
      ],
      "execution_count": 8,
      "outputs": [
        {
          "output_type": "stream",
          "name": "stdout",
          "text": [
            "Enter number of rows6\n",
            "*\n",
            "**\n",
            "***\n",
            "****\n",
            "*****\n",
            "******\n"
          ]
        }
      ]
    },
    {
      "cell_type": "markdown",
      "metadata": {
        "id": "SP_zJmtyoK9y"
      },
      "source": [
        "# **7. Complete the following code to convert hour into seconds. Output should be as displayed**"
      ]
    },
    {
      "cell_type": "code",
      "metadata": {
        "colab": {
          "base_uri": "https://localhost:8080/"
        },
        "id": "vBxHQQSioV0K",
        "outputId": "650b025b-a04a-419b-c597-b570fc9778ab"
      },
      "source": [
        "def to_seconds(t):\n",
        "    t=t*3600\n",
        "    return t\n",
        "time_in_hours = int(input('Enter the time in Hour'))\n",
        "print(time_in_hours ,\" Hour is equal to\" ,to_seconds(time_in_hours) ,\" Seconds\")"
      ],
      "execution_count": 13,
      "outputs": [
        {
          "output_type": "stream",
          "name": "stdout",
          "text": [
            "Enter the time in Hour1\n",
            "1  Hour is equal to 3600  Seconds\n"
          ]
        }
      ]
    },
    {
      "cell_type": "markdown",
      "metadata": {
        "id": "4kiw8PCaqujC"
      },
      "source": [
        "# **8. Write a program to print multiplication table as below**"
      ]
    },
    {
      "cell_type": "code",
      "metadata": {
        "colab": {
          "base_uri": "https://localhost:8080/"
        },
        "id": "HfFxS799q1J5",
        "outputId": "606846f2-bd83-43aa-f26d-28ced68bec42"
      },
      "source": [
        "n=int(input('Enter the number for multiplication table : '))\n",
        "print('Multiplication table of ',n)\n",
        "for i in range(1,11):\n",
        " print(i,'x',n,'=',i*n)"
      ],
      "execution_count": 24,
      "outputs": [
        {
          "output_type": "stream",
          "name": "stdout",
          "text": [
            "Enter the number for multiplication table : 2\n",
            "Multiplication table of  2\n",
            "1 x 2 = 2\n",
            "2 x 2 = 4\n",
            "3 x 2 = 6\n",
            "4 x 2 = 8\n",
            "5 x 2 = 10\n",
            "6 x 2 = 12\n",
            "7 x 2 = 14\n",
            "8 x 2 = 16\n",
            "9 x 2 = 18\n",
            "10 x 2 = 20\n"
          ]
        }
      ]
    },
    {
      "cell_type": "markdown",
      "metadata": {
        "id": "62HMNcjztdvg"
      },
      "source": [
        "# **9. Write a program to take your 5 favorite food as list and print each as 'I like Biriyani'**"
      ]
    },
    {
      "cell_type": "code",
      "metadata": {
        "colab": {
          "base_uri": "https://localhost:8080/"
        },
        "id": "XdWAbI2wtkvZ",
        "outputId": "5a414915-65a1-4385-e54a-5ab517d11059"
      },
      "source": [
        "food = input('Enter your favorite food list : ').split()\n",
        "for i in food:\n",
        "  print('I like ',i)"
      ],
      "execution_count": 25,
      "outputs": [
        {
          "output_type": "stream",
          "name": "stdout",
          "text": [
            "Enter your favorite food list : Apple Biriyani Orange\n",
            "I like  Apple\n",
            "I like  Biriyani\n",
            "I like  Orange\n"
          ]
        }
      ]
    },
    {
      "cell_type": "markdown",
      "metadata": {
        "id": "FxWUaQ78ukrG"
      },
      "source": [
        "# **10. Find error(s) in the following code(if any) and rewrite code**"
      ]
    },
    {
      "cell_type": "code",
      "metadata": {
        "colab": {
          "base_uri": "https://localhost:8080/"
        },
        "id": "PQqsqhL6xE8k",
        "outputId": "ff61cf2d-4a53-4f19-f029-6adc888fe9f8"
      },
      "source": [
        "x= int(input(\"Enter value of x:\"))\n",
        "for y in range(0,10):\n",
        "     if x==y:\n",
        "          print(\"They are equal\")\n",
        "     else:\n",
        "         print( \"They are unequal\")"
      ],
      "execution_count": 50,
      "outputs": [
        {
          "output_type": "stream",
          "name": "stdout",
          "text": [
            "Enter value of x:3\n",
            "They are unequal\n",
            "They are unequal\n",
            "They are unequal\n",
            "They are equal\n",
            "They are unequal\n",
            "They are unequal\n",
            "They are unequal\n",
            "They are unequal\n",
            "They are unequal\n",
            "They are unequal\n"
          ]
        }
      ]
    }
  ]
}